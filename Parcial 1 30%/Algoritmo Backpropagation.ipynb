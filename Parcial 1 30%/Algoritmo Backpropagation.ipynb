{
 "cells": [
  {
   "cell_type": "code",
   "execution_count": 6,
   "id": "7caf1622",
   "metadata": {},
   "outputs": [],
   "source": [
    "from jupyterthemes import jtplot\n",
    "jtplot.style(context='notebook', fscale=1.4, spines=True, gridlines='--', ticks=True, grid=True, figsize=(6, 4.5))"
   ]
  },
  {
   "cell_type": "code",
   "execution_count": 7,
   "id": "8abc4d57",
   "metadata": {},
   "outputs": [],
   "source": [
    "import numpy as np\n",
    "import pandas as pd\n",
    "from numpy import random\n",
    "import matplotlib.pyplot as plt"
   ]
  },
  {
   "cell_type": "code",
   "execution_count": 8,
   "id": "78d5f6cd",
   "metadata": {},
   "outputs": [],
   "source": [
    "# Funcion para obtener la tanh\n",
    "def tanh(x):\n",
    "    return np.tanh(x)\n",
    "\n",
    "# Funcion para obtener la derivada de tanh x\n",
    "def dtanh(x):\n",
    "    return 1.0 - np.tanh(x)**2\n",
    "\n",
    "# Funcion sigmoide de x\n",
    "def sigmoide(x):\n",
    "    return 1/(1+np.exp(-x))\n",
    "\n",
    "# Funcion para obtener la derivada de de la funcion sigmoide\n",
    "def dsigmoide(x):\n",
    "    s = 1/(1+np.exp(-x))\n",
    "    return s * (1-s)\n",
    "\n",
    "def Datos_entrenamiento(matriz,x1,xn):\n",
    "    xin = matriz[:,x1:xn+1]\n",
    "    return xin\n",
    "\n",
    "def Datos_validacion(matriz,xji,xjn):\n",
    "    xjn = matriz[:,xji:xjn+1]\n",
    "    return xjn"
   ]
  },
  {
   "cell_type": "code",
   "execution_count": 9,
   "id": "7f75ee27",
   "metadata": {},
   "outputs": [],
   "source": [
    "class MLP():\n",
    "    # constructor\n",
    "    def __init__(self,xi,d,w_1,w_2,us,uoc,precision,epocas,fac_ap,n_ocultas,n_entradas,n_salida):\n",
    "        # Variables de inicialización \n",
    "        self.xi = np.transpose(xi)\n",
    "        self.d = d\n",
    "        self.w1 = w_1\n",
    "        self.w2 = w_2\n",
    "        self.us = us\n",
    "        self.uoc = uoc\n",
    "        self.precision = precision\n",
    "        self.epocas = epocas\n",
    "        self.fac_ap = fac_ap\n",
    "        self.n_entradas = n_entradas\n",
    "        self.n_ocultas = n_ocultas\n",
    "        self.n_salida = n_salida\n",
    "        # Variables de aprendizaje\n",
    "        self.di = 0 # Salida deseada en iteracion actual\n",
    "        self.error_red = 1 # Error total de la red en una conjunto de iteraciones\n",
    "        self.Ew = 0 # Error cuadratico medio\n",
    "        self.Error_prev = 0 # Error anterior\n",
    "        self.Errores = []\n",
    "        self.Error_actual = np.zeros((len(d))) # Errores acumulados en un ciclo de muestras\n",
    "        self.Entradas = np.zeros((1,n_entradas))\n",
    "        self.un = np.zeros((n_ocultas,1)) # Potencial de activacion en neuronas ocultas\n",
    "        self.gu = np.zeros((n_ocultas,1)) # Funcion de activacion de neuronas ocultas\n",
    "        self.Y = 0.0 # Potencial de activacion en neurona de salida\n",
    "        self.y = 0.0 # Funcion de activacion en neurona de salida\n",
    "        self.epochs = 0\n",
    "        # Variables de retropropagacion\n",
    "        self.error_real = 0\n",
    "        self.ds = 0.0 # delta de salida\n",
    "        self.docu = np.zeros((n_ocultas,1)) # Deltas en neuronas ocultas\n",
    "        \n",
    "    def Operacion(self):\n",
    "        respuesta = np.zeros((len(self.d),1))\n",
    "        for p in range(len(self.d)):\n",
    "            self.Entradas = self.xi[:,p]\n",
    "            self.Propagar()\n",
    "            respuesta[p,:] = self.y\n",
    "        return respuesta.tolist()\n",
    "    \n",
    "    def Aprendizaje(self):\n",
    "        Errores = [] # Almacenar los errores de la red en un ciclo\n",
    "        while(np.abs(self.error_red) > self.precision):\n",
    "            self.Error_prev = self.Ew\n",
    "            for i in range(len(d)):\n",
    "                self.Entradas = self.xi[:,i] # Senales de entrada por iteracion\n",
    "                self.di = self.d[i]\n",
    "                self.Propagar()\n",
    "                self.Backpropagation()\n",
    "                self.Propagar()\n",
    "                self.Error_actual[i] = (0.5)*((self.di - self.y)**2)\n",
    "            # error global de la red\n",
    "            self.Error()\n",
    "            Errores.append(self.error_red)\n",
    "            self.epochs +=1\n",
    "            # Si se alcanza un mayor numero de epocas\n",
    "            if self.epochs > self.epocas:\n",
    "                break\n",
    "        # Regresar \n",
    "        return self.epochs,self.w1,self.w2,self.us,self.uoc,Errores\n",
    "                \n",
    "    \n",
    "    def Propagar(self):\n",
    "        # Operaciones en la primer capa\n",
    "        for a in range(self.n_ocultas):\n",
    "            self.un[a,:] = np.dot(self.w1[a,:], self.Entradas) + self.uoc[a,:]\n",
    "        \n",
    "        # Calcular la activacion de la neuronas en la capa oculta\n",
    "        for o in range(self.n_ocultas):\n",
    "            self.gu[o,:] = tanh(self.un[o,:])\n",
    "        \n",
    "        # Calcular Y potencial de activacion de la neuronas de salida\n",
    "        self.Y = (np.dot(self.w2,self.gu) + self.us)\n",
    "        # Calcular la salida de la neurona de salida\n",
    "        self.y = tanh(self.Y)\n",
    "    \n",
    "    def Backpropagation(self):\n",
    "        # Calcular el error\n",
    "        self.error_real = (self.di - self.y)\n",
    "        # Calcular ds\n",
    "        self.ds = (dtanh(self.Y) * self.error_real)\n",
    "        # Ajustar w2\n",
    "        self.w2 = self.w2 + (np.transpose(self.gu) * self.fac_ap * self.ds)\n",
    "        # Ajustar umbral us\n",
    "        self.us = self.us + (self.fac_ap * self.ds)\n",
    "        # Calcular docu\n",
    "        self.docu = dtanh(self.un) * np.transpose(self.w2) * self.ds\n",
    "        # Ajustar los pesos w1\n",
    "        for j in range(self.n_ocultas):\n",
    "            self.w1[j,:] = self.w1[j,:] + ((self.docu[j,:]) * self.Entradas * self.fac_ap)\n",
    "        \n",
    "        # Ajustar el umbral en las neuronas ocultas\n",
    "        for g in range(self.n_ocultas):\n",
    "            self.uoc[g,:] = self.uoc[g,:] + (self.fac_ap * self.docu[g,:])\n",
    "        \n",
    "    def Error(self):\n",
    "        # Error cuadratico medio\n",
    "        self.Ew = ((1/len(d)) * (sum(self.Error_actual)))\n",
    "        self.error_red = (self.Ew - self.Error_prev)"
   ]
  },
  {
   "cell_type": "code",
   "execution_count": 10,
   "id": "f07b8890",
   "metadata": {},
   "outputs": [
    {
     "name": "stdout",
     "output_type": "stream",
     "text": [
      "Salidas:  [[-0.0009275508233893768], [0.981457061273193], [-0.00026017199883260594], [0.9802359303165205]]\n"
     ]
    },
    {
     "data": {
      "image/png": "[encoded data removed]",
      "text/plain": [
       "<Figure size 432x324 with 1 Axes>"
      ]
     },
     "metadata": {},
     "output_type": "display_data"
    }
   ],
   "source": [
    " # Propagama principal\n",
    "if \"__main__\"==__name__:\n",
    "    xls = pd.ExcelFile('XOR.xlsx') # leer archivo excel\n",
    "    datos = xls.parse('Hoja1') # Hoja de trabajo\n",
    "    matrix_data = np.array(datos)\n",
    "    # Datos de entrada\n",
    "    x_inicio = 0\n",
    "    x_n = 1\n",
    "    # Datos de entrada validacion\n",
    "    xj_inicio = 3\n",
    "    xj_n = 4\n",
    "    # Crear vector de entradas xi\n",
    "    xi = (Datos_entrenamiento(matrix_data,x_inicio,x_n))\n",
    "    d = matrix_data[:,x_n+1]\n",
    "    # vector de validación\n",
    "    xj = (Datos_validacion(matrix_data,xj_inicio,xj_n))\n",
    "    # Parametros de la red\n",
    "    f,c = xi.shape\n",
    "    fac_ap = 0.2\n",
    "    precision = 0.0000001\n",
    "    epocas = 10000 #\n",
    "    epochs = 0\n",
    "    # Arquitectura de la red\n",
    "    n_entradas = c # numero de entradas\n",
    "    cap_ocultas = 1 # Una capa oculta\n",
    "    n_ocultas = 6 # Neuronas en la capa oculta\n",
    "    n_salida = 1 # Neuronas en la capa de salida\n",
    "    # Valor de umbral o bia\n",
    "    us = 1.0 # umbral en neurona de salida\n",
    "    uoc = np.ones((n_ocultas,1),float) # umbral en las neuronas ocultas\n",
    "    # Matriz de pesos sinapticos\n",
    "    random.seed(0) # \n",
    "    w_1 = random.rand(n_ocultas,n_entradas)\n",
    "    w_2 = random.rand(n_salida,n_ocultas)\n",
    "    \n",
    "    #Inicializar la red PMC\n",
    "    red = MLP(xi,d,w_1,w_2,us,uoc,precision,epocas,fac_ap,n_ocultas,n_entradas,n_salida)\n",
    "    epochs,w1_a,w2_a,us_a,uoc_a,E = red.Aprendizaje()\n",
    "    \n",
    "    # graficar el error\n",
    "    plt.grid()\n",
    "    plt.ylabel(\"Error de la red\",fontsize=12)\n",
    "    plt.xlabel(\"Épocas\",fontsize=12)\n",
    "    plt.title(\"Perceptrón Multicapa\",fontsize=14)\n",
    "    x = np.arange(epochs)\n",
    "    plt.plot(x,E,'b',label=\"Error global\")\n",
    "    plt.legend(loc='upper right')\n",
    "    plt.show\n",
    "    \n",
    "    # validacion\n",
    "    red = MLP(xj,d,w1_a,w2_a,us_a,uoc_a,precision,epocas,fac_ap,n_ocultas,n_entradas,n_salida)\n",
    "    salidas = red.Operacion()\n",
    "    print(\"Salidas: \",salidas)"
   ]
  },
  {
   "attachments": {},
   "cell_type": "markdown",
   "id": "e6208f99",
   "metadata": {},
   "source": [
    "<img src=\"img/Red.png\" alt=\"drawing\" width=\"600\"/>"
   ]
  },
  {
   "cell_type": "markdown",
   "id": "e5857044",
   "metadata": {},
   "source": [
    "<img src=\"img/w.png\" alt=\"drawing\" width=\"600\"/>"
   ]
  },
  {
   "cell_type": "markdown",
   "id": "22b752d6",
   "metadata": {},
   "source": [
    "<img src=\"img/neurona1.png\" alt=\"drawing\" width=\"600\"/>"
   ]
  },
  {
   "cell_type": "markdown",
   "id": "7c07b81a",
   "metadata": {},
   "source": [
    "<img src=\"img/neurona2.png\" alt=\"drawing\" width=\"600\"/>"
   ]
  },
  {
   "attachments": {},
   "cell_type": "markdown",
   "id": "2144126f",
   "metadata": {},
   "source": [
    "<img src=\"img/error.png\" alt=\"drawing\" width=\"600\"/>"
   ]
  },
  {
   "attachments": {},
   "cell_type": "markdown",
   "id": "d78c0994",
   "metadata": {},
   "source": [
    "<img src=\"img/w2.png\" alt=\"drawing\" width=\"600\"/>"
   ]
  },
  {
   "cell_type": "markdown",
   "id": "ad69b370",
   "metadata": {},
   "source": [
    "<img src=\"img/ajusteUmbral.png\" alt=\"drawing\" width=\"600\"/>"
   ]
  },
  {
   "cell_type": "markdown",
   "id": "4df636f6",
   "metadata": {},
   "source": [
    "<img src=\"img/w1.png\" alt=\"drawing\" width=\"600\"/>"
   ]
  },
  {
   "cell_type": "markdown",
   "id": "155b6b55",
   "metadata": {},
   "source": [
    "<img src=\"img/ajustar.png\" alt=\"drawing\" width=\"600\"/>"
   ]
  },
  {
   "cell_type": "markdown",
   "id": "8aeac58b",
   "metadata": {},
   "source": [
    "<img src=\"img/errorCM.png\" alt=\"drawing\" width=\"600\"/>"
   ]
  },
  {
   "cell_type": "markdown",
   "id": "2cd3e159",
   "metadata": {},
   "source": [
    "### Bibliografía:\n",
    "#### Alberto García Serrano -> Ingeligencia Artificial, Fundamentos, Práctica y Aplicaciones, Alfaomega 2012, Pg. 228\n",
    "#### Pedro Isasi - Inés Galván -> Redes de Neuronas Artificiales, Un Enfoque Práctico, Pearson Educación 2004"
   ]
  }
 ],
 "metadata": {
  "kernelspec": {
   "display_name": "Python 3 (ipykernel)",
   "language": "python",
   "name": "python3"
  },
  "language_info": {
   "codemirror_mode": {
    "name": "ipython",
    "version": 3
   },
   "file_extension": ".py",
   "mimetype": "text/x-python",
   "name": "python",
   "nbconvert_exporter": "python",
   "pygments_lexer": "ipython3",
   "version": "3.8.10"
  }
 },
 "nbformat": 4,
 "nbformat_minor": 5
}
