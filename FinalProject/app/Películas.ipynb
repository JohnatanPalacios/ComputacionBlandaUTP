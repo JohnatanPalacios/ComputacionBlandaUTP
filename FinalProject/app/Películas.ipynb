{
 "cells": [
  {
   "cell_type": "code",
   "execution_count": 3,
   "id": "91d8c2e0",
   "metadata": {},
   "outputs": [],
   "source": [
    "import requests\n",
    "\n",
    "imdb = requests.get('https://www.imdb.com/')\n",
    "    \n",
    "# ipc-list__item nav-link NavLink-sc-19k0khm-0 dvLykY ipc-list__item--indent-one"
   ]
  },
  {
   "cell_type": "code",
   "execution_count": null,
   "id": "174b78fd",
   "metadata": {},
   "outputs": [],
   "source": []
  }
 ],
 "metadata": {
  "kernelspec": {
   "display_name": "Python 3 (ipykernel)",
   "language": "python",
   "name": "python3"
  },
  "language_info": {
   "codemirror_mode": {
    "name": "ipython",
    "version": 3
   },
   "file_extension": ".py",
   "mimetype": "text/x-python",
   "name": "python",
   "nbconvert_exporter": "python",
   "pygments_lexer": "ipython3",
   "version": "3.8.10"
  }
 },
 "nbformat": 4,
 "nbformat_minor": 5
}
